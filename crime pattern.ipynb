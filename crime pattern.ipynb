{
 "cells": [
  {
   "cell_type": "code",
   "execution_count": 9,
   "metadata": {
    "scrolled": true
   },
   "outputs": [
    {
     "name": "stdout",
     "output_type": "stream",
     "text": [
      "Requirement already satisfied: tweepy in c:\\new folder\\lib\\site-packages (3.9.0)\n",
      "Requirement already satisfied: requests[socks]>=2.11.1 in c:\\new folder\\lib\\site-packages (from tweepy) (2.24.0)\n",
      "Requirement already satisfied: six>=1.10.0 in c:\\new folder\\lib\\site-packages (from tweepy) (1.15.0)\n",
      "Requirement already satisfied: requests-oauthlib>=0.7.0 in c:\\new folder\\lib\\site-packages (from tweepy) (1.3.0)\n",
      "Requirement already satisfied: chardet<4,>=3.0.2 in c:\\new folder\\lib\\site-packages (from requests[socks]>=2.11.1->tweepy) (3.0.4)\n",
      "Requirement already satisfied: idna<3,>=2.5 in c:\\new folder\\lib\\site-packages (from requests[socks]>=2.11.1->tweepy) (2.10)\n",
      "Requirement already satisfied: urllib3!=1.25.0,!=1.25.1,<1.26,>=1.21.1 in c:\\new folder\\lib\\site-packages (from requests[socks]>=2.11.1->tweepy) (1.24.3)\n",
      "Requirement already satisfied: certifi>=2017.4.17 in c:\\new folder\\lib\\site-packages (from requests[socks]>=2.11.1->tweepy) (2020.6.20)\n",
      "Requirement already satisfied: PySocks!=1.5.7,>=1.5.6; extra == \"socks\" in c:\\new folder\\lib\\site-packages (from requests[socks]>=2.11.1->tweepy) (1.7.1)\n",
      "Requirement already satisfied: oauthlib>=3.0.0 in c:\\new folder\\lib\\site-packages (from requests-oauthlib>=0.7.0->tweepy) (3.1.0)\n",
      "Requirement already satisfied: ibm_watson in c:\\new folder\\lib\\site-packages (4.7.1)\n",
      "Requirement already satisfied: websocket-client==0.48.0 in c:\\new folder\\lib\\site-packages (from ibm_watson) (0.48.0)\n",
      "Requirement already satisfied: ibm-cloud-sdk-core==1.7.3 in c:\\new folder\\lib\\site-packages (from ibm_watson) (1.7.3)\n",
      "Requirement already satisfied: requests<3.0,>=2.0 in c:\\new folder\\lib\\site-packages (from ibm_watson) (2.24.0)\n",
      "Requirement already satisfied: python-dateutil>=2.5.3 in c:\\new folder\\lib\\site-packages (from ibm_watson) (2.8.1)\n",
      "Requirement already satisfied: six in c:\\new folder\\lib\\site-packages (from websocket-client==0.48.0->ibm_watson) (1.15.0)\n",
      "Requirement already satisfied: PyJWT>=1.7.1 in c:\\new folder\\lib\\site-packages (from ibm-cloud-sdk-core==1.7.3->ibm_watson) (1.7.1)\n",
      "Requirement already satisfied: idna<3,>=2.5 in c:\\new folder\\lib\\site-packages (from requests<3.0,>=2.0->ibm_watson) (2.10)\n",
      "Requirement already satisfied: chardet<4,>=3.0.2 in c:\\new folder\\lib\\site-packages (from requests<3.0,>=2.0->ibm_watson) (3.0.4)\n",
      "Requirement already satisfied: urllib3!=1.25.0,!=1.25.1,<1.26,>=1.21.1 in c:\\new folder\\lib\\site-packages (from requests<3.0,>=2.0->ibm_watson) (1.24.3)\n",
      "Requirement already satisfied: certifi>=2017.4.17 in c:\\new folder\\lib\\site-packages (from requests<3.0,>=2.0->ibm_watson) (2020.6.20)\n"
     ]
    }
   ],
   "source": [
    "!pip install tweepy\n",
    "!pip install ibm_watson"
   ]
  },
  {
   "cell_type": "code",
   "execution_count": 10,
   "metadata": {},
   "outputs": [],
   "source": [
    "import os\n",
    " \n",
    "# Import tweepy to work with the twitter API\n",
    "import tweepy as tw\n",
    "\n",
    "# Import pandas to work with dataframes\n",
    "import pandas as pd"
   ]
  },
  {
   "cell_type": "code",
   "execution_count": 11,
   "metadata": {},
   "outputs": [],
   "source": [
    "consumer_key = 'AFzqQ5ETQ2KWWi0bz2n2HfSfS'\n",
    "consumer_secret = 'aiVvwehud1p76JziBCYqxFRlXhun4A6ReskUYPQ8m8k1iDj3le'\n",
    "access_token = '44354765-DkD8NQj4WjPrtcwIHWD3M13MpFOADk9j85klOFHtJ'\n",
    "access_token_secret = 'D7vqp3mm9wDZ8jgR3uoBOz1puFlLN519aTIdhrPwDmJwD'"
   ]
  },
  {
   "cell_type": "code",
   "execution_count": 12,
   "metadata": {},
   "outputs": [],
   "source": [
    "# Authenticate\n",
    "auth = tw.OAuthHandler(consumer_key, consumer_secret)\n",
    "# Set Tokens\n",
    "auth.set_access_token(access_token, access_token_secret)\n",
    "# Instantiate API\n",
    "api = tw.API(auth, wait_on_rate_limit=True)"
   ]
  },
  {
   "cell_type": "code",
   "execution_count": 13,
   "metadata": {},
   "outputs": [],
   "source": [
    "handle = 'ranjanvaid'"
   ]
  },
  {
   "cell_type": "code",
   "execution_count": 14,
   "metadata": {},
   "outputs": [],
   "source": [
    "res = api.user_timeline(screen_name=handle, count=100, include_rts=True)"
   ]
  },
  {
   "cell_type": "code",
   "execution_count": 15,
   "metadata": {},
   "outputs": [],
   "source": [
    "tweets = [tweet.text for tweet in res]"
   ]
  },
  {
   "cell_type": "code",
   "execution_count": 16,
   "metadata": {},
   "outputs": [
    {
     "data": {
      "text/plain": [
       "['Ed Woodward is a disgrace #MUFC #WoodwardOut #GlazersOutWoodwardOut https://t.co/hfp1bmuyVI',\n",
       " 'Lindelof is a defender #MUNCRY #WoodwardOut #GlazersOutWoodwardOut https://t.co/RBHdb5GYlF',\n",
       " '@ManUtd #WoodwardOut #WoodwardOutGlazersOut https://t.co/mxgiAdLzEG',\n",
       " '3 palace goals , 3 Lindelof mistakes. He should never come anywhere near the starting 11. Extremely poor all around… https://t.co/0zbXZrOtoI',\n",
       " '@ManUtd I understand Ole, team doing that but what about useless woodward and thieving glazers #MUFC #GLAZERSOUT… https://t.co/uV0r0b1GKb',\n",
       " 'Enough is enough. Fuck off  #GlazersOutWoodwardOut #GlazersOut #WoodwardOut #MUFC https://t.co/yTViAzebqu',\n",
       " '@ManUtd @Daniel_James_97 Sign someone 🤬 https://t.co/RjxtIW51pI',\n",
       " '@ManUtd Time to sign some players https://t.co/Cr2FiUQQ8L',\n",
       " '@ManUtd https://t.co/YmHZ6wqYod',\n",
       " '@utdreport @Footy_Headlines https://t.co/WtHU0zWQr9',\n",
       " '@vdsar1970 @ManUtd #MUFC https://t.co/bmXSuHbE50',\n",
       " '@talkSPORT Yeah he can start coaching too, the same way he’s doing in barca for the last few years. https://t.co/YLwWnWYmE3',\n",
       " '@talkSPORT No logic whatsoever! https://t.co/EyT2LtXPhT',\n",
       " 'I got: 8/9 A Champions League-winner performance. Top stuff.   https://t.co/SBgMwVBoxV via @playbuzz',\n",
       " 'Can’t see another season of mediocrity. They are following the same pattern &amp; Ole’s gonna regret not standing up to… https://t.co/Nh4qKnUxgh',\n",
       " 'Woodward , Glazers take your pick. #GlazersOut #MUFC https://t.co/QpAUgeYWKX',\n",
       " 'Maguire: Exposed \\nLindelof: Not a DEFENDER \\nAWB: Can’t cross the ball. Final third play is beyond poor for a united… https://t.co/Cc6T8yy0xN',\n",
       " '@aditya_reds It would be a repeat of the shit show windows we had earlier with that clown at helm. Seeing the quali… https://t.co/InR2jRWMS9',\n",
       " 'Lindelof is shit at defending. Pass it on. \\n #SEVMUN #MUFC #UEL',\n",
       " 'Guardiola too smart his own good. Sterling miss was sth to behold. Missing that chance was more difficult than scor… https://t.co/gimTBTXpel',\n",
       " 'If DESTROYED was a image #FCBFCB  #UCL https://t.co/gSuLaVFqRM',\n",
       " '@aditya_reds Wing play was nothing short of poor. Team depth is just not there.',\n",
       " '@SibsMUFC @aditya_reds Cantona like to be exact',\n",
       " '@talkSPORT Would love to see him at United so that he makes a mug out of souness along with Pogba. #MUFC',\n",
       " '@talkSPORT @Sjopinion10 This man talks sense everytime he speaks.',\n",
       " '@UnitedStandMUFC Didn’t take his chance. Rashford got rushed to the first team and he took his chance. \\nNo excuses.… https://t.co/GvIhUGmaMC',\n",
       " '@aditya_reds Overated beyond belief. Heard in commentary that he’s the only manager that presents different challenges. #Fraudiola',\n",
       " '@RealistGlizzy 🤣🤣🤣',\n",
       " '@IExpressSports @IndianExpress Just 2 errors!\\n🤣🤣🤣',\n",
       " '@ManUtd Fuck YEAH!\\n#MUFC #GGMU',\n",
       " 'Stop making stupid people famous. #BanTiktok #FaizalSiddiqui',\n",
       " '@TrollFootball Atleast she knows , she has to bench messi! 🤣🤣🤣',\n",
       " '@BBCMOTD @GaryLineker @IanWright0 @alanshearer @BBCSounds Legend for a reason. You don’t win so much without discipline.',\n",
       " '@ESPNcricinfo “Runs in my viens”',\n",
       " 'VAR as a system is not flawed. Referees using it are. The decisions being made are killing the games. It seems like… https://t.co/jS378sIHIu',\n",
       " '@talkSPORT @Sjopinion10 @MinoRaiola rightly exposed this excuse of an agent. This politics around pogba will only h… https://t.co/3HgQLFSzkZ',\n",
       " '@utdreport Raiola is a disgrace. SAF was absolutely right about this guy. Pogba is a footballer playing in one of t… https://t.co/Hd01q7b2NO',\n",
       " '@Squawka A shithead and his shit. #MUFC',\n",
       " '@MailSport @petejenson This is what happens when players wield  too much power at a club. Club will always be bigge… https://t.co/EWDcZHdjW4',\n",
       " '@ManUtd #SackWoodward',\n",
       " '@ManUnitedMedia @ManUtd https://t.co/1L5bUa9H92',\n",
       " '@utdreport @Sport_Witness Fuck these planted stories!\\n#MUFC',\n",
       " '@utdxtra So that woodward can fuck all the negotiations and then blame it on Ole later. #MUFC',\n",
       " '@_GoncaloLopes @ManUtd How woodward is a finance guy and can’t close a deal without such a drama around it? #MUFC',\n",
       " '@sistoney67 @Inter_en Thank god for that. \\n#MUFC',\n",
       " 'Heckle this Idiot out this club. #MUFC https://t.co/mI9Gvy3Mqq',\n",
       " 'Fred has been amazing for us this season. Even though martial should have scored , he did great with a limited supp… https://t.co/zovRiD4sCF',\n",
       " 'Woodward and the board has sucked the life out of #MUFC .The team is lacking in depth, class and attitude. Feel bad… https://t.co/rGA3xmQL9p',\n",
       " '@TheManUtdWay Agreed!\\nBut their partnership doesn’t work when pressed. Next up is Liverpool in form of thier life. #MUFC',\n",
       " 'Apparently united is signing Bruno Fernandes. Its that time of the year again. He’s not in machester for sure from… https://t.co/VwxS5D3bck',\n",
       " '@ManUnitedZone_ This transfer window is getting funnier with every passing hour. Please remember woodward is still… https://t.co/2ldESpEc0c',\n",
       " '@utdreport Here we go again with this shit.',\n",
       " 'It looks like referees are on a suicide mission to fail the VAR in the english leagues. Michael Olivier has always… https://t.co/A71TbXmcyb',\n",
       " 'Lingard should have some mercy on his teammates, ole and the fans. He’s not anywhere near prem level. He’s official… https://t.co/BKOR4atZAe',\n",
       " 'Some of the fans wanted Ole out. Get behind the man for god’sake. We all know who’s at fault for our decline. #MCIMUN #MUFC',\n",
       " 'Repeat after me!\\nPep Guardiola is a fraud. #MUFC\\n#MCIMUN',\n",
       " '@AnnaMariaMUFC Supporters have a moral obligation to support their team through thick and thin. Hate the glory hunt… https://t.co/7XT8nnJOUq',\n",
       " '@utdxtra How is Woodward still in the job is beyond me. This shows the team is suffering , has no direction and foo… https://t.co/LpgwkAZGhm',\n",
       " 'Can’t win away and getting embarrassed at home. Dismal form carries on. United board doesn’t have the will to stop… https://t.co/qzuZdUidKr',\n",
       " 'Group F!\\nThe group of Hell.\\n #EURO2020',\n",
       " '@ashoswai @businessinsider Sweden has the highest tax rates in the world. Balances everything out. Please don’t pre… https://t.co/zNfE8ypbdA',\n",
       " '@utdreport Can someone shut this idiot up please. Who is he scouting as DOF?',\n",
       " '@cricbuzz Too late idiots',\n",
       " 'Captain Legend #BCCIPresident \\nOne and only #Ganguly',\n",
       " '@SamConsta @Hayles_101 Woodword holidaying since 2012',\n",
       " '@Malachians Wish we can swap him with someone?',\n",
       " 'Those who are rejoicing the arrivals and all the speculation fail to understand that the transfers were supposed to… https://t.co/8Az1vNB42A',\n",
       " '@aditya_reds @Evra Great work! 👍🏼\\n👏🏼👏🏼👏🏼',\n",
       " 'Hound them back to US and heckle woodward at every public appearance. They should know they are responsible.… https://t.co/XJvOwsnncP',\n",
       " '@ESPNcricinfo Whats the point of having a procedure if it can’t lead to a right decision.Admit it was a mistake on their part and move on.',\n",
       " 'Glazers are a disease , sadly woodward is not the cure. There is no respite for the fans. #GlazersOut #mufc #MUFC',\n",
       " '@joybhattacharj @bhogleharsha Why not the team which has lost the least wickets?\\nand declaring it a dead ball when… https://t.co/9WJJlDOsxH',\n",
       " 'Spirit of cricket lost today. They can call it luck all they want but NZ were deserved winners but for that freak o… https://t.co/FcTbtt11r3',\n",
       " 'If NZ lose this. Spirit of cricket will lose. #EngvNZL #CWC19Final',\n",
       " 'Ravi Shastri has to be one of the worst ever #TeamIndia coach ever and we had Greg Chappel. \\nHe has to go. \\n#INDvsNZ #INDvNZ #CWC19',\n",
       " 'Dhoni tried his best and succeeded in getting us out of the #CWC19 #INDvNZ #INDvsNZ',\n",
       " 'Shastri should never come near the Indian team again. #INDvNZ #CWC19\\xa0#INDvsNZ',\n",
       " '@utdreport @GFFN Sad if true. How the mighty have fallen @ManUtd \\n#MUFC',\n",
       " '@hirstclass Toxic agent and the player is not winning himself any fans.\\nIF only sombody can pay up £150 m for him.… https://t.co/P3lSCGbPpJ',\n",
       " '@ESPNcricinfo are you sure?',\n",
       " '@mohanstatsman Lets just say it ain’t happening!\\nAll this 1992 talk was getting on everyone’s nerves anyway. Good riddance! #CWC19',\n",
       " '@UnitedsUpdate Its a shame they didn’t quote £100m. #MUFC',\n",
       " '@utdxtra Maybe some reduction in his salary and bonuses would help his performance to improve a bit or we can chuck him already. #MUFC',\n",
       " '@bhogleharsha which means in all probability we have to play them in the semis on the same ground.',\n",
       " '@TeleFootball @TelegraphDucker Thats a new low even by his standards, leaking his emails to the press. #MUFC',\n",
       " '@UnitedsUpdate @SimonPeach Hahaha!\\nTypical. We are slow in announcing the player that the whole world knows we have signed. #MUFC',\n",
       " 'England the favourites lose again. 3rd time in 7 matches. #ENGvAUS\\n#CWC19 #CWC2019',\n",
       " '@UnitedsUpdate How can he be so inept at his job and still be at @ManUtd ?\\n#MUFC',\n",
       " '@CentreTransfer Swap with lingard seems fair.',\n",
       " '@ManUtd_HQ @ManUtd Yeah!\\nWho wouldn’t like grown up footballers going home crying after the training sessions. Lingard anyone? #MUFC',\n",
       " '@utdxtra Nothing but the truth.',\n",
       " '@sportbible Imagine woodward refusing his transfer recommendations. All hell will break lose!\\n#MUFC',\n",
       " '@MrTomMcDermott Not going to happen. United and Argentinians don’t mix that well. #MUFC',\n",
       " '@AlexShawESPN We will do good not signing him even if need him to save our ass. His will end up making a stupid dec… https://t.co/dTIg1sHv2g',\n",
       " '@English_AS Planted stories for sure.Imagine him being in your team and after few good seasons doing this dumb fuck… https://t.co/kevHg5onC3',\n",
       " '@utdxtra 2 mistakes',\n",
       " '@MrTomMcDermott Don’t care about him but his influence on Rashford is just sad. #MUFC',\n",
       " '@StretfordPaddck Imagine him being our captain next year. Utter shamblesNobody is bigger than the club. For far too… https://t.co/nXz6fJALRN',\n",
       " '@utdxtra He’s not a heavyweight, he’s a footballer. Imagine thinking of him as a footballer. Needs to be replaced a… https://t.co/aFTGRsZig3',\n",
       " '@ManUnitedMedia Totally agree!\\nThe player who got lost in transition after Fergie left.']"
      ]
     },
     "execution_count": 16,
     "metadata": {},
     "output_type": "execute_result"
    }
   ],
   "source": [
    "tweets"
   ]
  },
  {
   "cell_type": "code",
   "execution_count": 17,
   "metadata": {},
   "outputs": [],
   "source": [
    "text = ''.join(str(tweet) for tweet in tweets)"
   ]
  },
  {
   "cell_type": "code",
   "execution_count": 18,
   "metadata": {},
   "outputs": [
    {
     "data": {
      "text/plain": [
       "'Ed Woodward is a disgrace #MUFC #WoodwardOut #GlazersOutWoodwardOut https://t.co/hfp1bmuyVILindelof is a defender #MUNCRY #WoodwardOut #GlazersOutWoodwardOut https://t.co/RBHdb5GYlF@ManUtd #WoodwardOut #WoodwardOutGlazersOut https://t.co/mxgiAdLzEG3 palace goals , 3 Lindelof mistakes. He should never come anywhere near the starting 11. Extremely poor all around… https://t.co/0zbXZrOtoI@ManUtd I understand Ole, team doing that but what about useless woodward and thieving glazers #MUFC #GLAZERSOUT… https://t.co/uV0r0b1GKbEnough is enough. Fuck off  #GlazersOutWoodwardOut #GlazersOut #WoodwardOut #MUFC https://t.co/yTViAzebqu@ManUtd @Daniel_James_97 Sign someone 🤬 https://t.co/RjxtIW51pI@ManUtd Time to sign some players https://t.co/Cr2FiUQQ8L@ManUtd https://t.co/YmHZ6wqYod@utdreport @Footy_Headlines https://t.co/WtHU0zWQr9@vdsar1970 @ManUtd #MUFC https://t.co/bmXSuHbE50@talkSPORT Yeah he can start coaching too, the same way he’s doing in barca for the last few years. https://t.co/YLwWnWYmE3@talkSPORT No logic whatsoever! https://t.co/EyT2LtXPhTI got: 8/9 A Champions League-winner performance. Top stuff.   https://t.co/SBgMwVBoxV via @playbuzzCan’t see another season of mediocrity. They are following the same pattern &amp; Ole’s gonna regret not standing up to… https://t.co/Nh4qKnUxghWoodward , Glazers take your pick. #GlazersOut #MUFC https://t.co/QpAUgeYWKXMaguire: Exposed \\nLindelof: Not a DEFENDER \\nAWB: Can’t cross the ball. Final third play is beyond poor for a united… https://t.co/Cc6T8yy0xN@aditya_reds It would be a repeat of the shit show windows we had earlier with that clown at helm. Seeing the quali… https://t.co/InR2jRWMS9Lindelof is shit at defending. Pass it on. \\n #SEVMUN #MUFC #UELGuardiola too smart his own good. Sterling miss was sth to behold. Missing that chance was more difficult than scor… https://t.co/gimTBTXpelIf DESTROYED was a image #FCBFCB  #UCL https://t.co/gSuLaVFqRM@aditya_reds Wing play was nothing short of poor. Team depth is just not there.@SibsMUFC @aditya_reds Cantona like to be exact@talkSPORT Would love to see him at United so that he makes a mug out of souness along with Pogba. #MUFC@talkSPORT @Sjopinion10 This man talks sense everytime he speaks.@UnitedStandMUFC Didn’t take his chance. Rashford got rushed to the first team and he took his chance. \\nNo excuses.… https://t.co/GvIhUGmaMC@aditya_reds Overated beyond belief. Heard in commentary that he’s the only manager that presents different challenges. #Fraudiola@RealistGlizzy 🤣🤣🤣@IExpressSports @IndianExpress Just 2 errors!\\n🤣🤣🤣@ManUtd Fuck YEAH!\\n#MUFC #GGMUStop making stupid people famous. #BanTiktok #FaizalSiddiqui@TrollFootball Atleast she knows , she has to bench messi! 🤣🤣🤣@BBCMOTD @GaryLineker @IanWright0 @alanshearer @BBCSounds Legend for a reason. You don’t win so much without discipline.@ESPNcricinfo “Runs in my viens”VAR as a system is not flawed. Referees using it are. The decisions being made are killing the games. It seems like… https://t.co/jS378sIHIu@talkSPORT @Sjopinion10 @MinoRaiola rightly exposed this excuse of an agent. This politics around pogba will only h… https://t.co/3HgQLFSzkZ@utdreport Raiola is a disgrace. SAF was absolutely right about this guy. Pogba is a footballer playing in one of t… https://t.co/Hd01q7b2NO@Squawka A shithead and his shit. #MUFC@MailSport @petejenson This is what happens when players wield  too much power at a club. Club will always be bigge… https://t.co/EWDcZHdjW4@ManUtd #SackWoodward@ManUnitedMedia @ManUtd https://t.co/1L5bUa9H92@utdreport @Sport_Witness Fuck these planted stories!\\n#MUFC@utdxtra So that woodward can fuck all the negotiations and then blame it on Ole later. #MUFC@_GoncaloLopes @ManUtd How woodward is a finance guy and can’t close a deal without such a drama around it? #MUFC@sistoney67 @Inter_en Thank god for that. \\n#MUFCHeckle this Idiot out this club. #MUFC https://t.co/mI9Gvy3MqqFred has been amazing for us this season. Even though martial should have scored , he did great with a limited supp… https://t.co/zovRiD4sCFWoodward and the board has sucked the life out of #MUFC .The team is lacking in depth, class and attitude. Feel bad… https://t.co/rGA3xmQL9p@TheManUtdWay Agreed!\\nBut their partnership doesn’t work when pressed. Next up is Liverpool in form of thier life. #MUFCApparently united is signing Bruno Fernandes. Its that time of the year again. He’s not in machester for sure from… https://t.co/VwxS5D3bck@ManUnitedZone_ This transfer window is getting funnier with every passing hour. Please remember woodward is still… https://t.co/2ldESpEc0c@utdreport Here we go again with this shit.It looks like referees are on a suicide mission to fail the VAR in the english leagues. Michael Olivier has always… https://t.co/A71TbXmcybLingard should have some mercy on his teammates, ole and the fans. He’s not anywhere near prem level. He’s official… https://t.co/BKOR4atZAeSome of the fans wanted Ole out. Get behind the man for god’sake. We all know who’s at fault for our decline. #MCIMUN #MUFCRepeat after me!\\nPep Guardiola is a fraud. #MUFC\\n#MCIMUN@AnnaMariaMUFC Supporters have a moral obligation to support their team through thick and thin. Hate the glory hunt… https://t.co/7XT8nnJOUq@utdxtra How is Woodward still in the job is beyond me. This shows the team is suffering , has no direction and foo… https://t.co/LpgwkAZGhmCan’t win away and getting embarrassed at home. Dismal form carries on. United board doesn’t have the will to stop… https://t.co/qzuZdUidKrGroup F!\\nThe group of Hell.\\n #EURO2020@ashoswai @businessinsider Sweden has the highest tax rates in the world. Balances everything out. Please don’t pre… https://t.co/zNfE8ypbdA@utdreport Can someone shut this idiot up please. Who is he scouting as DOF?@cricbuzz Too late idiotsCaptain Legend #BCCIPresident \\nOne and only #Ganguly@SamConsta @Hayles_101 Woodword holidaying since 2012@Malachians Wish we can swap him with someone?Those who are rejoicing the arrivals and all the speculation fail to understand that the transfers were supposed to… https://t.co/8Az1vNB42A@aditya_reds @Evra Great work! 👍🏼\\n👏🏼👏🏼👏🏼Hound them back to US and heckle woodward at every public appearance. They should know they are responsible.… https://t.co/XJvOwsnncP@ESPNcricinfo Whats the point of having a procedure if it can’t lead to a right decision.Admit it was a mistake on their part and move on.Glazers are a disease , sadly woodward is not the cure. There is no respite for the fans. #GlazersOut #mufc #MUFC@joybhattacharj @bhogleharsha Why not the team which has lost the least wickets?\\nand declaring it a dead ball when… https://t.co/9WJJlDOsxHSpirit of cricket lost today. They can call it luck all they want but NZ were deserved winners but for that freak o… https://t.co/FcTbtt11r3If NZ lose this. Spirit of cricket will lose. #EngvNZL #CWC19FinalRavi Shastri has to be one of the worst ever #TeamIndia coach ever and we had Greg Chappel. \\nHe has to go. \\n#INDvsNZ #INDvNZ #CWC19Dhoni tried his best and succeeded in getting us out of the #CWC19 #INDvNZ #INDvsNZShastri should never come near the Indian team again. #INDvNZ #CWC19\\xa0#INDvsNZ@utdreport @GFFN Sad if true. How the mighty have fallen @ManUtd \\n#MUFC@hirstclass Toxic agent and the player is not winning himself any fans.\\nIF only sombody can pay up £150 m for him.… https://t.co/P3lSCGbPpJ@ESPNcricinfo are you sure?@mohanstatsman Lets just say it ain’t happening!\\nAll this 1992 talk was getting on everyone’s nerves anyway. Good riddance! #CWC19@UnitedsUpdate Its a shame they didn’t quote £100m. #MUFC@utdxtra Maybe some reduction in his salary and bonuses would help his performance to improve a bit or we can chuck him already. #MUFC@bhogleharsha which means in all probability we have to play them in the semis on the same ground.@TeleFootball @TelegraphDucker Thats a new low even by his standards, leaking his emails to the press. #MUFC@UnitedsUpdate @SimonPeach Hahaha!\\nTypical. We are slow in announcing the player that the whole world knows we have signed. #MUFCEngland the favourites lose again. 3rd time in 7 matches. #ENGvAUS\\n#CWC19 #CWC2019@UnitedsUpdate How can he be so inept at his job and still be at @ManUtd ?\\n#MUFC@CentreTransfer Swap with lingard seems fair.@ManUtd_HQ @ManUtd Yeah!\\nWho wouldn’t like grown up footballers going home crying after the training sessions. Lingard anyone? #MUFC@utdxtra Nothing but the truth.@sportbible Imagine woodward refusing his transfer recommendations. All hell will break lose!\\n#MUFC@MrTomMcDermott Not going to happen. United and Argentinians don’t mix that well. #MUFC@AlexShawESPN We will do good not signing him even if need him to save our ass. His will end up making a stupid dec… https://t.co/dTIg1sHv2g@English_AS Planted stories for sure.Imagine him being in your team and after few good seasons doing this dumb fuck… https://t.co/kevHg5onC3@utdxtra 2 mistakes@MrTomMcDermott Don’t care about him but his influence on Rashford is just sad. #MUFC@StretfordPaddck Imagine him being our captain next year. Utter shamblesNobody is bigger than the club. For far too… https://t.co/nXz6fJALRN@utdxtra He’s not a heavyweight, he’s a footballer. Imagine thinking of him as a footballer. Needs to be replaced a… https://t.co/aFTGRsZig3@ManUnitedMedia Totally agree!\\nThe player who got lost in transition after Fergie left.'"
      ]
     },
     "execution_count": 18,
     "metadata": {},
     "output_type": "execute_result"
    }
   ],
   "source": [
    "text"
   ]
  },
  {
   "cell_type": "code",
   "execution_count": 19,
   "metadata": {},
   "outputs": [],
   "source": [
    "from ibm_watson import PersonalityInsightsV3\n",
    "\n",
    "from ibm_cloud_sdk_core.authenticators import IAMAuthenticator"
   ]
  },
  {
   "cell_type": "code",
   "execution_count": 20,
   "metadata": {},
   "outputs": [],
   "source": [
    "apikey = 'UwDQ95TK3AVeo1pTMwaZExOf-2XzPhLcsUd0DRTTTeYg'\n",
    "url = 'https://api.eu-gb.personality-insights.watson.cloud.ibm.com/instances/811fad92-5e2c-4f3d-bd47-b4793a086ad5'"
   ]
  },
  {
   "cell_type": "code",
   "execution_count": 21,
   "metadata": {},
   "outputs": [],
   "source": [
    "authenticator = IAMAuthenticator(apikey)\n",
    "personality_insights = PersonalityInsightsV3(\n",
    "        version='2017-10-13', \n",
    "        authenticator=authenticator\n",
    ")\n",
    "personality_insights.set_service_url(url)"
   ]
  },
  {
   "cell_type": "code",
   "execution_count": 22,
   "metadata": {},
   "outputs": [
    {
     "data": {
      "text/plain": [
       "{'word_count': 1240,\n",
       " 'processed_language': 'en',\n",
       " 'personality': [{'trait_id': 'big5_openness',\n",
       "   'name': 'Openness',\n",
       "   'category': 'personality',\n",
       "   'percentile': 0.5662500329771045,\n",
       "   'significant': True,\n",
       "   'children': [{'trait_id': 'facet_adventurousness',\n",
       "     'name': 'Adventurousness',\n",
       "     'category': 'personality',\n",
       "     'percentile': 0.009165041640591454,\n",
       "     'significant': True},\n",
       "    {'trait_id': 'facet_artistic_interests',\n",
       "     'name': 'Artistic interests',\n",
       "     'category': 'personality',\n",
       "     'percentile': 0.007364846150765658,\n",
       "     'significant': True},\n",
       "    {'trait_id': 'facet_emotionality',\n",
       "     'name': 'Emotionality',\n",
       "     'category': 'personality',\n",
       "     'percentile': 0.17287270835448137,\n",
       "     'significant': True},\n",
       "    {'trait_id': 'facet_imagination',\n",
       "     'name': 'Imagination',\n",
       "     'category': 'personality',\n",
       "     'percentile': 0.3561428247947488,\n",
       "     'significant': True},\n",
       "    {'trait_id': 'facet_intellect',\n",
       "     'name': 'Intellect',\n",
       "     'category': 'personality',\n",
       "     'percentile': 0.8245338123214063,\n",
       "     'significant': True},\n",
       "    {'trait_id': 'facet_liberalism',\n",
       "     'name': 'Authority-challenging',\n",
       "     'category': 'personality',\n",
       "     'percentile': 0.5067146024325929,\n",
       "     'significant': True}]},\n",
       "  {'trait_id': 'big5_conscientiousness',\n",
       "   'name': 'Conscientiousness',\n",
       "   'category': 'personality',\n",
       "   'percentile': 0.16335278627020677,\n",
       "   'significant': True,\n",
       "   'children': [{'trait_id': 'facet_achievement_striving',\n",
       "     'name': 'Achievement striving',\n",
       "     'category': 'personality',\n",
       "     'percentile': 0.08594799685280918,\n",
       "     'significant': True},\n",
       "    {'trait_id': 'facet_cautiousness',\n",
       "     'name': 'Cautiousness',\n",
       "     'category': 'personality',\n",
       "     'percentile': 0.19140345228372535,\n",
       "     'significant': True},\n",
       "    {'trait_id': 'facet_dutifulness',\n",
       "     'name': 'Dutifulness',\n",
       "     'category': 'personality',\n",
       "     'percentile': 0.21972285806606556,\n",
       "     'significant': True},\n",
       "    {'trait_id': 'facet_orderliness',\n",
       "     'name': 'Orderliness',\n",
       "     'category': 'personality',\n",
       "     'percentile': 0.0855929181059677,\n",
       "     'significant': True},\n",
       "    {'trait_id': 'facet_self_discipline',\n",
       "     'name': 'Self-discipline',\n",
       "     'category': 'personality',\n",
       "     'percentile': 0.1158534620233333,\n",
       "     'significant': True},\n",
       "    {'trait_id': 'facet_self_efficacy',\n",
       "     'name': 'Self-efficacy',\n",
       "     'category': 'personality',\n",
       "     'percentile': 0.6514726331809764,\n",
       "     'significant': True}]},\n",
       "  {'trait_id': 'big5_extraversion',\n",
       "   'name': 'Extraversion',\n",
       "   'category': 'personality',\n",
       "   'percentile': 0.05458635121994909,\n",
       "   'significant': True,\n",
       "   'children': [{'trait_id': 'facet_activity_level',\n",
       "     'name': 'Activity level',\n",
       "     'category': 'personality',\n",
       "     'percentile': 0.17242253439073635,\n",
       "     'significant': True},\n",
       "    {'trait_id': 'facet_assertiveness',\n",
       "     'name': 'Assertiveness',\n",
       "     'category': 'personality',\n",
       "     'percentile': 0.881808241256894,\n",
       "     'significant': True},\n",
       "    {'trait_id': 'facet_cheerfulness',\n",
       "     'name': 'Cheerfulness',\n",
       "     'category': 'personality',\n",
       "     'percentile': 0.05352781475012108,\n",
       "     'significant': True},\n",
       "    {'trait_id': 'facet_excitement_seeking',\n",
       "     'name': 'Excitement-seeking',\n",
       "     'category': 'personality',\n",
       "     'percentile': 0.643535163425459,\n",
       "     'significant': True},\n",
       "    {'trait_id': 'facet_friendliness',\n",
       "     'name': 'Outgoing',\n",
       "     'category': 'personality',\n",
       "     'percentile': 0.2704122266644139,\n",
       "     'significant': True},\n",
       "    {'trait_id': 'facet_gregariousness',\n",
       "     'name': 'Gregariousness',\n",
       "     'category': 'personality',\n",
       "     'percentile': 0.2914010656279178,\n",
       "     'significant': True}]},\n",
       "  {'trait_id': 'big5_agreeableness',\n",
       "   'name': 'Agreeableness',\n",
       "   'category': 'personality',\n",
       "   'percentile': 0.011771403098236655,\n",
       "   'significant': True,\n",
       "   'children': [{'trait_id': 'facet_altruism',\n",
       "     'name': 'Altruism',\n",
       "     'category': 'personality',\n",
       "     'percentile': 0.3276596346561518,\n",
       "     'significant': True},\n",
       "    {'trait_id': 'facet_cooperation',\n",
       "     'name': 'Cooperation',\n",
       "     'category': 'personality',\n",
       "     'percentile': 0.013630860787434418,\n",
       "     'significant': True},\n",
       "    {'trait_id': 'facet_modesty',\n",
       "     'name': 'Modesty',\n",
       "     'category': 'personality',\n",
       "     'percentile': 0.09633377404064675,\n",
       "     'significant': True},\n",
       "    {'trait_id': 'facet_morality',\n",
       "     'name': 'Uncompromising',\n",
       "     'category': 'personality',\n",
       "     'percentile': 0.012379739663577971,\n",
       "     'significant': True},\n",
       "    {'trait_id': 'facet_sympathy',\n",
       "     'name': 'Sympathy',\n",
       "     'category': 'personality',\n",
       "     'percentile': 0.7541929935032303,\n",
       "     'significant': True},\n",
       "    {'trait_id': 'facet_trust',\n",
       "     'name': 'Trust',\n",
       "     'category': 'personality',\n",
       "     'percentile': 0.4150308614834086,\n",
       "     'significant': True}]},\n",
       "  {'trait_id': 'big5_neuroticism',\n",
       "   'name': 'Emotional range',\n",
       "   'category': 'personality',\n",
       "   'percentile': 0.6971815604030377,\n",
       "   'significant': True,\n",
       "   'children': [{'trait_id': 'facet_anger',\n",
       "     'name': 'Fiery',\n",
       "     'category': 'personality',\n",
       "     'percentile': 0.9321359911333261,\n",
       "     'significant': True},\n",
       "    {'trait_id': 'facet_anxiety',\n",
       "     'name': 'Prone to worry',\n",
       "     'category': 'personality',\n",
       "     'percentile': 0.6907890921676334,\n",
       "     'significant': True},\n",
       "    {'trait_id': 'facet_depression',\n",
       "     'name': 'Melancholy',\n",
       "     'category': 'personality',\n",
       "     'percentile': 0.8594709589374835,\n",
       "     'significant': True},\n",
       "    {'trait_id': 'facet_immoderation',\n",
       "     'name': 'Immoderation',\n",
       "     'category': 'personality',\n",
       "     'percentile': 0.43436360765493476,\n",
       "     'significant': True},\n",
       "    {'trait_id': 'facet_self_consciousness',\n",
       "     'name': 'Self-consciousness',\n",
       "     'category': 'personality',\n",
       "     'percentile': 0.6620846926309529,\n",
       "     'significant': True},\n",
       "    {'trait_id': 'facet_vulnerability',\n",
       "     'name': 'Susceptible to stress',\n",
       "     'category': 'personality',\n",
       "     'percentile': 0.41297312504124184,\n",
       "     'significant': True}]}],\n",
       " 'needs': [{'trait_id': 'need_challenge',\n",
       "   'name': 'Challenge',\n",
       "   'category': 'needs',\n",
       "   'percentile': 0.266041611369752,\n",
       "   'significant': True},\n",
       "  {'trait_id': 'need_closeness',\n",
       "   'name': 'Closeness',\n",
       "   'category': 'needs',\n",
       "   'percentile': 0.06164276337653407,\n",
       "   'significant': True},\n",
       "  {'trait_id': 'need_curiosity',\n",
       "   'name': 'Curiosity',\n",
       "   'category': 'needs',\n",
       "   'percentile': 0.05692991722883384,\n",
       "   'significant': True},\n",
       "  {'trait_id': 'need_excitement',\n",
       "   'name': 'Excitement',\n",
       "   'category': 'needs',\n",
       "   'percentile': 0.2995725955570022,\n",
       "   'significant': True},\n",
       "  {'trait_id': 'need_harmony',\n",
       "   'name': 'Harmony',\n",
       "   'category': 'needs',\n",
       "   'percentile': 0.06955474298962583,\n",
       "   'significant': True},\n",
       "  {'trait_id': 'need_ideal',\n",
       "   'name': 'Ideal',\n",
       "   'category': 'needs',\n",
       "   'percentile': 0.19303701393402062,\n",
       "   'significant': True},\n",
       "  {'trait_id': 'need_liberty',\n",
       "   'name': 'Liberty',\n",
       "   'category': 'needs',\n",
       "   'percentile': 0.10049970680697357,\n",
       "   'significant': True},\n",
       "  {'trait_id': 'need_love',\n",
       "   'name': 'Love',\n",
       "   'category': 'needs',\n",
       "   'percentile': 0.037133025880958015,\n",
       "   'significant': True},\n",
       "  {'trait_id': 'need_practicality',\n",
       "   'name': 'Practicality',\n",
       "   'category': 'needs',\n",
       "   'percentile': 0.6650508984441036,\n",
       "   'significant': True},\n",
       "  {'trait_id': 'need_self_expression',\n",
       "   'name': 'Self-expression',\n",
       "   'category': 'needs',\n",
       "   'percentile': 0.05887347018060718,\n",
       "   'significant': True},\n",
       "  {'trait_id': 'need_stability',\n",
       "   'name': 'Stability',\n",
       "   'category': 'needs',\n",
       "   'percentile': 0.11362777374138305,\n",
       "   'significant': True},\n",
       "  {'trait_id': 'need_structure',\n",
       "   'name': 'Structure',\n",
       "   'category': 'needs',\n",
       "   'percentile': 0.4489187613101049,\n",
       "   'significant': True}],\n",
       " 'values': [{'trait_id': 'value_conservation',\n",
       "   'name': 'Conservation',\n",
       "   'category': 'values',\n",
       "   'percentile': 0.1828258020494029,\n",
       "   'significant': True},\n",
       "  {'trait_id': 'value_openness_to_change',\n",
       "   'name': 'Openness to change',\n",
       "   'category': 'values',\n",
       "   'percentile': 0.27094575479274935,\n",
       "   'significant': True},\n",
       "  {'trait_id': 'value_hedonism',\n",
       "   'name': 'Hedonism',\n",
       "   'category': 'values',\n",
       "   'percentile': 0.2017092892447513,\n",
       "   'significant': True},\n",
       "  {'trait_id': 'value_self_enhancement',\n",
       "   'name': 'Self-enhancement',\n",
       "   'category': 'values',\n",
       "   'percentile': 0.2137676460422589,\n",
       "   'significant': True},\n",
       "  {'trait_id': 'value_self_transcendence',\n",
       "   'name': 'Self-transcendence',\n",
       "   'category': 'values',\n",
       "   'percentile': 0.017065764407990458,\n",
       "   'significant': True}],\n",
       " 'warnings': []}"
      ]
     },
     "execution_count": 22,
     "metadata": {},
     "output_type": "execute_result"
    }
   ],
   "source": [
    "profile = personality_insights.profile(text, accept='application/json').get_result()\n",
    "profile"
   ]
  },
  {
   "cell_type": "code",
   "execution_count": 23,
   "metadata": {},
   "outputs": [
    {
     "name": "stdout",
     "output_type": "stream",
     "text": [
      "Openness 0.5662500329771045\n",
      "Conscientiousness 0.16335278627020677\n",
      "Extraversion 0.05458635121994909\n",
      "Agreeableness 0.011771403098236655\n",
      "Emotional range 0.6971815604030377\n"
     ]
    }
   ],
   "source": [
    "for personality in profile['personality']:\n",
    "    print(personality['name'], personality['percentile'])"
   ]
  },
  {
   "cell_type": "code",
   "execution_count": 24,
   "metadata": {},
   "outputs": [
    {
     "name": "stdout",
     "output_type": "stream",
     "text": [
      "Conservation 0.1828258020494029\n",
      "Openness to change 0.27094575479274935\n",
      "Hedonism 0.2017092892447513\n",
      "Self-enhancement 0.2137676460422589\n",
      "Self-transcendence 0.017065764407990458\n"
     ]
    }
   ],
   "source": [
    "for personality in profile['values']:\n",
    "    print(personality['name'], personality['percentile'])"
   ]
  },
  {
   "cell_type": "code",
   "execution_count": 36,
   "metadata": {},
   "outputs": [
    {
     "name": "stdout",
     "output_type": "stream",
     "text": [
      "Challenge 0.266041611369752\n",
      "Closeness 0.06164276337653407\n",
      "Curiosity 0.05692991722883384\n",
      "Excitement 0.2995725955570022\n",
      "Harmony 0.06955474298962583\n",
      "Ideal 0.19303701393402062\n",
      "Liberty 0.10049970680697357\n",
      "Love 0.037133025880958015\n",
      "Practicality 0.6650508984441036\n",
      "Self-expression 0.05887347018060718\n",
      "Stability 0.11362777374138305\n",
      "Structure 0.4489187613101049\n"
     ]
    }
   ],
   "source": [
    "for personality in profile['needs']:\n",
    "    print(personality['name'], personality['percentile'])"
   ]
  },
  {
   "cell_type": "code",
   "execution_count": 37,
   "metadata": {},
   "outputs": [],
   "source": [
    "# Import matplotlib \n",
    "from matplotlib import pyplot as plt\n",
    "# Import seaborn\n",
    "import seaborn as sns"
   ]
  },
  {
   "cell_type": "code",
   "execution_count": 38,
   "metadata": {},
   "outputs": [],
   "source": [
    "# Visualise profiles \n",
    "needs = profile['needs']\n",
    "result = {need['name']:need['percentile'] for need in needs}\n",
    "df = pd.DataFrame.from_dict(result, orient='index')\n",
    "df.reset_index(inplace=True)\n",
    "df.columns = ['need', 'percentile']"
   ]
  },
  {
   "cell_type": "code",
   "execution_count": 39,
   "metadata": {},
   "outputs": [
    {
     "data": {
      "text/html": [
       "<div>\n",
       "<style scoped>\n",
       "    .dataframe tbody tr th:only-of-type {\n",
       "        vertical-align: middle;\n",
       "    }\n",
       "\n",
       "    .dataframe tbody tr th {\n",
       "        vertical-align: top;\n",
       "    }\n",
       "\n",
       "    .dataframe thead th {\n",
       "        text-align: right;\n",
       "    }\n",
       "</style>\n",
       "<table border=\"1\" class=\"dataframe\">\n",
       "  <thead>\n",
       "    <tr style=\"text-align: right;\">\n",
       "      <th></th>\n",
       "      <th>need</th>\n",
       "      <th>percentile</th>\n",
       "    </tr>\n",
       "  </thead>\n",
       "  <tbody>\n",
       "    <tr>\n",
       "      <th>0</th>\n",
       "      <td>Challenge</td>\n",
       "      <td>0.266042</td>\n",
       "    </tr>\n",
       "    <tr>\n",
       "      <th>1</th>\n",
       "      <td>Closeness</td>\n",
       "      <td>0.061643</td>\n",
       "    </tr>\n",
       "    <tr>\n",
       "      <th>2</th>\n",
       "      <td>Curiosity</td>\n",
       "      <td>0.056930</td>\n",
       "    </tr>\n",
       "    <tr>\n",
       "      <th>3</th>\n",
       "      <td>Excitement</td>\n",
       "      <td>0.299573</td>\n",
       "    </tr>\n",
       "    <tr>\n",
       "      <th>4</th>\n",
       "      <td>Harmony</td>\n",
       "      <td>0.069555</td>\n",
       "    </tr>\n",
       "  </tbody>\n",
       "</table>\n",
       "</div>"
      ],
      "text/plain": [
       "         need  percentile\n",
       "0   Challenge    0.266042\n",
       "1   Closeness    0.061643\n",
       "2   Curiosity    0.056930\n",
       "3  Excitement    0.299573\n",
       "4     Harmony    0.069555"
      ]
     },
     "execution_count": 39,
     "metadata": {},
     "output_type": "execute_result"
    }
   ],
   "source": [
    "df.head()"
   ]
  },
  {
   "cell_type": "code",
   "execution_count": 40,
   "metadata": {},
   "outputs": [
    {
     "data": {
      "image/png": "[encoded data removed]",
      "text/plain": [
       "<Figure size 1080x360 with 1 Axes>"
      ]
     },
     "metadata": {
      "needs_background": "light"
     },
     "output_type": "display_data"
    }
   ],
   "source": [
    "# Create Plot\n",
    "plt.figure(figsize=(15,5))\n",
    "sns.barplot(y='percentile', x='need', data=df).set_title('Needs')\n",
    "plt.show()"
   ]
  },
  {
   "cell_type": "code",
   "execution_count": 34,
   "metadata": {},
   "outputs": [],
   "source": [
    "def create_trait_plot(name, traits):\n",
    "    result = {trait['name']:trait['percentile'] for trait in traits}\n",
    "    df=pd.DataFrame.from_dict(result, orient='index')\n",
    "    df.reset_index(inplace=True)\n",
    "    df.columns = ['need', 'percentile']\n",
    "    plt.figure(figsize=(15,5))\n",
    "    sns.barplot(y='percentile', x='need', data=df).set_title(name)\n",
    "    plt.show()"
   ]
  },
  {
   "cell_type": "code",
   "execution_count": 41,
   "metadata": {},
   "outputs": [
    {
     "data": {
      "image/png": "[encoded data removed]",
      "text/plain": [
       "<Figure size 1080x360 with 1 Axes>"
      ]
     },
     "metadata": {
      "needs_background": "light"
     },
     "output_type": "display_data"
    },
    {
     "data": {
      "image/png": "[encoded data removed]",
      "text/plain": [
       "<Figure size 1080x360 with 1 Axes>"
      ]
     },
     "metadata": {
      "needs_background": "light"
     },
     "output_type": "display_data"
    },
    {
     "data": {
      "image/png": "[encoded data removed]",
      "text/plain": [
       "<Figure size 1080x360 with 1 Axes>"
      ]
     },
     "metadata": {
      "needs_background": "light"
     },
     "output_type": "display_data"
    },
    {
     "data": {
      "image/png": "[encoded data removed]",
      "text/plain": [
       "<Figure size 1080x360 with 1 Axes>"
      ]
     },
     "metadata": {
      "needs_background": "light"
     },
     "output_type": "display_data"
    },
    {
     "data": {
      "image/png": "[encoded data removed]",
      "text/plain": [
       "<Figure size 1080x360 with 1 Axes>"
      ]
     },
     "metadata": {
      "needs_background": "light"
     },
     "output_type": "display_data"
    },
    {
     "data": {
      "text/plain": [
       "[None, None, None, None, None]"
      ]
     },
     "execution_count": 41,
     "metadata": {},
     "output_type": "execute_result"
    }
   ],
   "source": [
    "[create_trait_plot(personality_trait['name'], personality_trait['children']) for personality_trait in profile['personality']]"
   ]
  }
 ],
 "metadata": {
  "kernelspec": {
   "display_name": "Python 3",
   "language": "python",
   "name": "python3"
  },
  "language_info": {
   "codemirror_mode": {
    "name": "ipython",
    "version": 3
   },
   "file_extension": ".py",
   "mimetype": "text/x-python",
   "name": "python",
   "nbconvert_exporter": "python",
   "pygments_lexer": "ipython3",
   "version": "3.8.3"
  }
 },
 "nbformat": 4,
 "nbformat_minor": 4
}
